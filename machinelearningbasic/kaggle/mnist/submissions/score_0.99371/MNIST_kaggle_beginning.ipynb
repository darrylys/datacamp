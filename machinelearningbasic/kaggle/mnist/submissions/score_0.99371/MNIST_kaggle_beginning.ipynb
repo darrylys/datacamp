{
  "nbformat": 4,
  "nbformat_minor": 0,
  "metadata": {
    "colab": {
      "name": "MNIST_kaggle_beginning.ipynb",
      "provenance": [],
      "collapsed_sections": []
    },
    "kernelspec": {
      "name": "python3",
      "display_name": "Python 3"
    },
    "accelerator": "GPU"
  },
  "cells": [
    {
      "cell_type": "code",
      "metadata": {
        "id": "ksx0-CqPju_Y",
        "colab_type": "code",
        "colab": {}
      },
      "source": [
        "import numpy as np\n",
        "import pandas as pd\n",
        "import tensorflow as tf\n",
        "import matplotlib.pyplot as plt\n",
        "import datetime\n",
        "\n",
        "def create_tensorboard_callback(folder_name):\n",
        "    log_dir = \"logs/fit/\" + datetime.datetime.now().strftime(\"%Y%m%d-%H%M%S\") + \"-\" + folder_name\n",
        "    return tf.keras.callbacks.TensorBoard(log_dir=log_dir, histogram_freq=1)\n"
      ],
      "execution_count": 0,
      "outputs": []
    },
    {
      "cell_type": "code",
      "metadata": {
        "id": "n263_izgmqP9",
        "colab_type": "code",
        "outputId": "a53eb132-2cc5-4019-c9b2-247b7d3ab914",
        "colab": {
          "base_uri": "https://localhost:8080/",
          "height": 50
        }
      },
      "source": [
        "import sys\n",
        "print(sys.version)"
      ],
      "execution_count": 0,
      "outputs": [
        {
          "output_type": "stream",
          "text": [
            "3.6.9 (default, Apr 18 2020, 01:56:04) \n",
            "[GCC 8.4.0]\n"
          ],
          "name": "stdout"
        }
      ]
    },
    {
      "cell_type": "code",
      "metadata": {
        "id": "re3dKltUtUN2",
        "colab_type": "code",
        "colab": {}
      },
      "source": [
        "def starting_model(num_classes):\n",
        "    return tf.keras.models.Sequential(layers=[\n",
        "        tf.keras.layers.Conv2D(32, (3,3), activation='relu', input_shape=(28, 28, 1), padding='valid', kernel_initializer='he_normal'), #26x26x10\n",
        "        tf.keras.layers.Conv2D(32, (3,3), activation='relu', padding='valid', kernel_initializer='he_normal'),  #24x24x20\n",
        "        tf.keras.layers.MaxPool2D(pool_size=(2,2), strides=2),\n",
        "        tf.keras.layers.Dropout(0.2),\n",
        "        tf.keras.layers.Conv2D(64, (3,3), activation='relu', padding='same', kernel_initializer='he_normal'),   \n",
        "        tf.keras.layers.Conv2D(64, (3,3), activation='relu', padding='same', kernel_initializer='he_normal'),  \n",
        "        tf.keras.layers.MaxPool2D(pool_size=(2,2), strides=2),\n",
        "        tf.keras.layers.Dropout(0.25),\n",
        "        tf.keras.layers.Conv2D(128, (3,3), activation='relu', padding='same', kernel_initializer='he_normal'),\n",
        "        tf.keras.layers.Dropout(0.25),\n",
        "        tf.keras.layers.Flatten(),\n",
        "        tf.keras.layers.Dense(128, activation='relu', kernel_initializer='he_normal'),\n",
        "        tf.keras.layers.BatchNormalization(),\n",
        "        tf.keras.layers.Dropout(0.25),\n",
        "        tf.keras.layers.Dense(num_classes, activation='softmax')\n",
        "    ]), 'starting', '--'"
      ],
      "execution_count": 0,
      "outputs": []
    },
    {
      "cell_type": "code",
      "metadata": {
        "id": "w57pGxheXSNF",
        "colab_type": "code",
        "colab": {}
      },
      "source": [
        "learning_rate_reduction = tf.keras.callbacks.ReduceLROnPlateau(monitor='val_accuracy', \n",
        "                                            patience=3, \n",
        "                                            verbose=1, \n",
        "                                            factor=0.5, \n",
        "                                            min_lr=0.0001)"
      ],
      "execution_count": 0,
      "outputs": []
    },
    {
      "cell_type": "code",
      "metadata": {
        "id": "TNBu3iDTiHiz",
        "colab_type": "code",
        "colab": {}
      },
      "source": [
        "early_stopping = tf.keras.callbacks.EarlyStopping(monitor='val_accuracy', \n",
        "                                                  min_delta=0.0001,\n",
        "                                                  patience=3)"
      ],
      "execution_count": 0,
      "outputs": []
    },
    {
      "cell_type": "code",
      "metadata": {
        "id": "sCaZ2kJYde7v",
        "colab_type": "code",
        "colab": {}
      },
      "source": [
        "from sklearn.model_selection import train_test_split\n",
        "from tensorflow.keras.preprocessing.image import ImageDataGenerator"
      ],
      "execution_count": 0,
      "outputs": []
    },
    {
      "cell_type": "code",
      "metadata": {
        "id": "QshhuScngid8",
        "colab_type": "code",
        "colab": {}
      },
      "source": [
        "def create_image_generator():\n",
        "  return ImageDataGenerator(\n",
        "            featurewise_center=False,  # set input mean to 0 over the dataset\n",
        "            samplewise_center=False,  # set each sample mean to 0\n",
        "            featurewise_std_normalization=False,  # divide inputs by std of the dataset\n",
        "            samplewise_std_normalization=False,  # divide each input by its std\n",
        "            zca_whitening=False,  # apply ZCA whitening\n",
        "            rotation_range=15, # randomly rotate images in the range (degrees, 0 to 180)\n",
        "            zoom_range = 0.1, # Randomly zoom image \n",
        "            width_shift_range=0.1,  # randomly shift images horizontally (fraction of total width)\n",
        "            height_shift_range=0.1,  # randomly shift images vertically (fraction of total height)\n",
        "            horizontal_flip=False,  # randomly flip images\n",
        "            vertical_flip=False)  # randomly flip images"
      ],
      "execution_count": 0,
      "outputs": []
    },
    {
      "cell_type": "code",
      "metadata": {
        "id": "VxJFpy3vfDnQ",
        "colab_type": "code",
        "colab": {}
      },
      "source": [
        "def prepare(df, is_training=True):\n",
        "    X = None\n",
        "    y = None\n",
        "\n",
        "    if is_training:\n",
        "      X = df.iloc[:,1:]\n",
        "      y = df.iloc[:,0]\n",
        "    else:\n",
        "      X = df\n",
        "\n",
        "    # normalizing input from [0,255] to [0,1]\n",
        "    X = X / 255.0\n",
        "\n",
        "    # each row is image of 28x28, one channel.\n",
        "    X = np.reshape(X.values, (X.shape[0], 28, 28, 1))\n",
        "    if is_training:\n",
        "      y = y.values\n",
        "\n",
        "      num_classes = 10\n",
        "      y = tf.keras.utils.to_categorical(y, num_classes=num_classes)\n",
        "    \n",
        "    return X,y"
      ],
      "execution_count": 0,
      "outputs": []
    },
    {
      "cell_type": "code",
      "metadata": {
        "id": "4-W9vinc5WZy",
        "colab_type": "code",
        "colab": {}
      },
      "source": [
        "batch_size = 128\n",
        "epochs = 30\n",
        "lossfn = 'categorical_crossentropy'\n",
        "optimizer = tf.keras.optimizers.Adam(learning_rate=0.001)"
      ],
      "execution_count": 0,
      "outputs": []
    },
    {
      "cell_type": "code",
      "metadata": {
        "id": "ShsgYHeZlE3c",
        "colab_type": "code",
        "colab": {}
      },
      "source": [
        "def train_model(df, name):\n",
        "    X,y = prepare(df)\n",
        "\n",
        "    models = [starting_model(10)]\n",
        "\n",
        "    losses = []\n",
        "    accuracies = []\n",
        "\n",
        "    for model, model_name, line_style in models:\n",
        "        model.compile(loss=lossfn,\n",
        "              optimizer=optimizer,\n",
        "              metrics=['accuracy'])\n",
        "\n",
        "        print(model.summary())\n",
        "\n",
        "        X_train, X_val, Y_train, Y_val = train_test_split(X, y, test_size = 0.2, random_state=69420)\n",
        "        callbacks=[learning_rate_reduction, create_tensorboard_callback(name)]\n",
        "        datagen = create_image_generator()\n",
        "        datagen.fit(X_train)\n",
        "        #model.fit(X, y, batch_size=batch_size, epochs=epochs, validation_split=0.2, callbacks=callbacks)\n",
        "        model.fit_generator(datagen.flow(X_train,Y_train, batch_size=batch_size),\n",
        "                              epochs = epochs, validation_data = (X_val,Y_val),\n",
        "                              verbose = 1, steps_per_epoch=X_train.shape[0] // batch_size\n",
        "                              , callbacks=[learning_rate_reduction, create_tensorboard_callback(name)],)\n",
        "\n",
        "    return model\n"
      ],
      "execution_count": 0,
      "outputs": []
    },
    {
      "cell_type": "code",
      "metadata": {
        "id": "pBLiHJPfecYe",
        "colab_type": "code",
        "colab": {}
      },
      "source": [
        "def train_predict(df_train, df_test):\n",
        "  X_train_all, y_train_all = prepare(df_train)\n",
        "  X_test_all, _ = prepare(df_test, is_training=False)\n",
        "\n",
        "  num_classes = 10\n",
        "  model, _, _ = starting_model(num_classes=num_classes)\n",
        "\n",
        "  model.compile(loss=lossfn,\n",
        "        optimizer=optimizer,\n",
        "        metrics=['accuracy'])\n",
        "  \n",
        "  X_train, X_val, Y_train, Y_val = train_test_split(X_train_all, y_train_all, test_size = 0.2, random_state=69420)\n",
        "\n",
        "  callbacks=[learning_rate_reduction]\n",
        "  datagen = create_image_generator()\n",
        "  datagen.fit(X_train)\n",
        "  #model.fit(X_train, y_train, batch_size=batch_size, epochs=epochs, callbacks=callbacks, validation_split=0.2)\n",
        "  model.fit_generator(datagen.flow(X_train,Y_train, batch_size=batch_size),\n",
        "                              epochs = epochs, validation_data = (X_val,Y_val),\n",
        "                              verbose = 1, steps_per_epoch=X_train.shape[0] // batch_size\n",
        "                              , callbacks=callbacks,)\n",
        "\n",
        "  y_pred = model.predict(X_test_all)\n",
        "  y_pred_classes = np.argmax(y_pred, axis=1)\n",
        "\n",
        "  submissions = pd.DataFrame({\"ImageId\": list(range(1,len(y_pred_classes)+1)), \"Label\": y_pred_classes})\n",
        "  submissions.to_csv(\"submission.csv\", index=False, header=True)\n"
      ],
      "execution_count": 0,
      "outputs": []
    },
    {
      "cell_type": "code",
      "metadata": {
        "id": "FyleL0yPlIko",
        "colab_type": "code",
        "colab": {}
      },
      "source": [
        "df_train = pd.read_csv('train.csv')\n",
        "df_test = pd.read_csv('test.csv')"
      ],
      "execution_count": 0,
      "outputs": []
    },
    {
      "cell_type": "code",
      "metadata": {
        "id": "13DCEAZClRAp",
        "colab_type": "code",
        "colab": {}
      },
      "source": [
        "train_model(df_train, 'base5lyr_lrred_henormal_withimggen')"
      ],
      "execution_count": 0,
      "outputs": []
    },
    {
      "cell_type": "code",
      "metadata": {
        "id": "tlOL-hT4iRYw",
        "colab_type": "code",
        "colab": {
          "base_uri": "https://localhost:8080/",
          "height": 992
        },
        "outputId": "eb9bc861-8d6c-43bc-9e16-cf11de3cd51e"
      },
      "source": [
        "train_predict(df_train, df_test)"
      ],
      "execution_count": 31,
      "outputs": [
        {
          "output_type": "stream",
          "text": [
            "Epoch 1/30\n",
            "262/262 [==============================] - 9s 33ms/step - loss: 0.7335 - accuracy: 0.7677 - val_loss: 0.1181 - val_accuracy: 0.9735 - lr: 1.0000e-04\n",
            "Epoch 2/30\n",
            "262/262 [==============================] - 9s 33ms/step - loss: 0.2453 - accuracy: 0.9290 - val_loss: 0.0632 - val_accuracy: 0.9818 - lr: 1.0000e-04\n",
            "Epoch 3/30\n",
            "262/262 [==============================] - 9s 35ms/step - loss: 0.1830 - accuracy: 0.9446 - val_loss: 0.0519 - val_accuracy: 0.9844 - lr: 1.0000e-04\n",
            "Epoch 4/30\n",
            "262/262 [==============================] - 9s 35ms/step - loss: 0.1426 - accuracy: 0.9584 - val_loss: 0.0429 - val_accuracy: 0.9871 - lr: 1.0000e-04\n",
            "Epoch 5/30\n",
            "262/262 [==============================] - 9s 34ms/step - loss: 0.1271 - accuracy: 0.9619 - val_loss: 0.0428 - val_accuracy: 0.9863 - lr: 1.0000e-04\n",
            "Epoch 6/30\n",
            "262/262 [==============================] - 9s 33ms/step - loss: 0.1131 - accuracy: 0.9671 - val_loss: 0.0418 - val_accuracy: 0.9867 - lr: 1.0000e-04\n",
            "Epoch 7/30\n",
            "262/262 [==============================] - 9s 33ms/step - loss: 0.1061 - accuracy: 0.9692 - val_loss: 0.0311 - val_accuracy: 0.9902 - lr: 1.0000e-04\n",
            "Epoch 8/30\n",
            "262/262 [==============================] - 9s 33ms/step - loss: 0.0958 - accuracy: 0.9705 - val_loss: 0.0328 - val_accuracy: 0.9889 - lr: 1.0000e-04\n",
            "Epoch 9/30\n",
            "262/262 [==============================] - 9s 33ms/step - loss: 0.0902 - accuracy: 0.9723 - val_loss: 0.0322 - val_accuracy: 0.9894 - lr: 1.0000e-04\n",
            "Epoch 10/30\n",
            "262/262 [==============================] - 9s 33ms/step - loss: 0.0860 - accuracy: 0.9749 - val_loss: 0.0285 - val_accuracy: 0.9912 - lr: 1.0000e-04\n",
            "Epoch 11/30\n",
            "262/262 [==============================] - 9s 33ms/step - loss: 0.0802 - accuracy: 0.9756 - val_loss: 0.0303 - val_accuracy: 0.9906 - lr: 1.0000e-04\n",
            "Epoch 12/30\n",
            "262/262 [==============================] - 9s 34ms/step - loss: 0.0760 - accuracy: 0.9782 - val_loss: 0.0265 - val_accuracy: 0.9919 - lr: 1.0000e-04\n",
            "Epoch 13/30\n",
            "262/262 [==============================] - 9s 33ms/step - loss: 0.0725 - accuracy: 0.9779 - val_loss: 0.0238 - val_accuracy: 0.9923 - lr: 1.0000e-04\n",
            "Epoch 14/30\n",
            "262/262 [==============================] - 8s 32ms/step - loss: 0.0692 - accuracy: 0.9790 - val_loss: 0.0216 - val_accuracy: 0.9936 - lr: 1.0000e-04\n",
            "Epoch 15/30\n",
            "262/262 [==============================] - 9s 33ms/step - loss: 0.0676 - accuracy: 0.9808 - val_loss: 0.0241 - val_accuracy: 0.9932 - lr: 1.0000e-04\n",
            "Epoch 16/30\n",
            "262/262 [==============================] - 9s 33ms/step - loss: 0.0663 - accuracy: 0.9802 - val_loss: 0.0229 - val_accuracy: 0.9924 - lr: 1.0000e-04\n",
            "Epoch 17/30\n",
            "262/262 [==============================] - 9s 33ms/step - loss: 0.0597 - accuracy: 0.9826 - val_loss: 0.0238 - val_accuracy: 0.9923 - lr: 1.0000e-04\n",
            "Epoch 18/30\n",
            "262/262 [==============================] - 9s 33ms/step - loss: 0.0593 - accuracy: 0.9816 - val_loss: 0.0207 - val_accuracy: 0.9936 - lr: 1.0000e-04\n",
            "Epoch 19/30\n",
            "262/262 [==============================] - 9s 33ms/step - loss: 0.0564 - accuracy: 0.9827 - val_loss: 0.0195 - val_accuracy: 0.9943 - lr: 1.0000e-04\n",
            "Epoch 20/30\n",
            "262/262 [==============================] - 9s 34ms/step - loss: 0.0558 - accuracy: 0.9832 - val_loss: 0.0180 - val_accuracy: 0.9940 - lr: 1.0000e-04\n",
            "Epoch 21/30\n",
            "262/262 [==============================] - 9s 33ms/step - loss: 0.0542 - accuracy: 0.9836 - val_loss: 0.0199 - val_accuracy: 0.9946 - lr: 1.0000e-04\n",
            "Epoch 22/30\n",
            "262/262 [==============================] - 9s 33ms/step - loss: 0.0525 - accuracy: 0.9827 - val_loss: 0.0186 - val_accuracy: 0.9946 - lr: 1.0000e-04\n",
            "Epoch 23/30\n",
            "262/262 [==============================] - 9s 33ms/step - loss: 0.0538 - accuracy: 0.9836 - val_loss: 0.0206 - val_accuracy: 0.9937 - lr: 1.0000e-04\n",
            "Epoch 24/30\n",
            "262/262 [==============================] - 9s 33ms/step - loss: 0.0496 - accuracy: 0.9844 - val_loss: 0.0196 - val_accuracy: 0.9942 - lr: 1.0000e-04\n",
            "Epoch 25/30\n",
            "262/262 [==============================] - 9s 34ms/step - loss: 0.0488 - accuracy: 0.9846 - val_loss: 0.0196 - val_accuracy: 0.9939 - lr: 1.0000e-04\n",
            "Epoch 26/30\n",
            "262/262 [==============================] - 9s 33ms/step - loss: 0.0465 - accuracy: 0.9854 - val_loss: 0.0189 - val_accuracy: 0.9935 - lr: 1.0000e-04\n",
            "Epoch 27/30\n",
            "262/262 [==============================] - 9s 33ms/step - loss: 0.0480 - accuracy: 0.9852 - val_loss: 0.0186 - val_accuracy: 0.9943 - lr: 1.0000e-04\n",
            "Epoch 28/30\n",
            "262/262 [==============================] - 9s 33ms/step - loss: 0.0465 - accuracy: 0.9862 - val_loss: 0.0189 - val_accuracy: 0.9948 - lr: 1.0000e-04\n",
            "Epoch 29/30\n",
            "262/262 [==============================] - 9s 33ms/step - loss: 0.0471 - accuracy: 0.9858 - val_loss: 0.0158 - val_accuracy: 0.9954 - lr: 1.0000e-04\n",
            "Epoch 30/30\n",
            "262/262 [==============================] - 9s 33ms/step - loss: 0.0450 - accuracy: 0.9859 - val_loss: 0.0200 - val_accuracy: 0.9936 - lr: 1.0000e-04\n"
          ],
          "name": "stdout"
        }
      ]
    },
    {
      "cell_type": "code",
      "metadata": {
        "id": "VlvhSUFnm-iw",
        "colab_type": "code",
        "colab": {}
      },
      "source": [
        "df_train.dtypes"
      ],
      "execution_count": 0,
      "outputs": []
    },
    {
      "cell_type": "code",
      "metadata": {
        "id": "QTR0aJJUqEeO",
        "colab_type": "code",
        "colab": {}
      },
      "source": [
        "import os\n",
        "os.getcwd()"
      ],
      "execution_count": 0,
      "outputs": []
    },
    {
      "cell_type": "code",
      "metadata": {
        "id": "N5Nz-y9YqKhd",
        "colab_type": "code",
        "colab": {}
      },
      "source": [
        "!unzip sample_data/mnist.zip"
      ],
      "execution_count": 0,
      "outputs": []
    },
    {
      "cell_type": "code",
      "metadata": {
        "id": "BspSumoOxMS3",
        "colab_type": "code",
        "colab": {}
      },
      "source": [
        "!zip -r tensorboardlogs.zip logs/"
      ],
      "execution_count": 0,
      "outputs": []
    },
    {
      "cell_type": "code",
      "metadata": {
        "id": "i_w4uEkr54qv",
        "colab_type": "code",
        "colab": {}
      },
      "source": [
        "# cleaning up tensorboard logs folder\n",
        "!rm -r logs/fit/"
      ],
      "execution_count": 0,
      "outputs": []
    },
    {
      "cell_type": "code",
      "metadata": {
        "id": "ib1skSsNUtwv",
        "colab_type": "code",
        "colab": {}
      },
      "source": [
        "!rm tensorboardlogs.zip"
      ],
      "execution_count": 0,
      "outputs": []
    }
  ]
}