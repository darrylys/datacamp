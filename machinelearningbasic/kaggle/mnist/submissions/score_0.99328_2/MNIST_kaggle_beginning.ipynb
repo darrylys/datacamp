{
  "nbformat": 4,
  "nbformat_minor": 0,
  "metadata": {
    "colab": {
      "name": "MNIST_kaggle_beginning.ipynb",
      "provenance": [],
      "collapsed_sections": [],
      "toc_visible": true
    },
    "kernelspec": {
      "name": "python3",
      "display_name": "Python 3"
    },
    "accelerator": "GPU"
  },
  "cells": [
    {
      "cell_type": "code",
      "metadata": {
        "id": "ksx0-CqPju_Y",
        "colab_type": "code",
        "colab": {}
      },
      "source": [
        "import numpy as np\n",
        "import pandas as pd\n",
        "import tensorflow as tf\n",
        "import matplotlib.pyplot as plt\n",
        "import datetime\n",
        "\n",
        "def create_tensorboard_callback(folder_name):\n",
        "    log_dir = \"logs/fit/\" + datetime.datetime.now().strftime(\"%Y%m%d-%H%M%S\") + \"-\" + folder_name\n",
        "    return tf.keras.callbacks.TensorBoard(log_dir=log_dir, histogram_freq=1)\n"
      ],
      "execution_count": 0,
      "outputs": []
    },
    {
      "cell_type": "code",
      "metadata": {
        "id": "n263_izgmqP9",
        "colab_type": "code",
        "outputId": "a53eb132-2cc5-4019-c9b2-247b7d3ab914",
        "colab": {
          "base_uri": "https://localhost:8080/",
          "height": 50
        }
      },
      "source": [
        "import sys\n",
        "print(sys.version)"
      ],
      "execution_count": 0,
      "outputs": [
        {
          "output_type": "stream",
          "text": [
            "3.6.9 (default, Apr 18 2020, 01:56:04) \n",
            "[GCC 8.4.0]\n"
          ],
          "name": "stdout"
        }
      ]
    },
    {
      "cell_type": "code",
      "metadata": {
        "id": "re3dKltUtUN2",
        "colab_type": "code",
        "colab": {}
      },
      "source": [
        "def starting_model(num_classes):\n",
        "    return tf.keras.models.Sequential(layers=[\n",
        "        tf.keras.layers.Conv2D(10, (3,3), activation='relu', input_shape=(28, 28, 1)),\n",
        "        tf.keras.layers.Conv2D(20, (3,3), activation='relu'),  \n",
        "        tf.keras.layers.BatchNormalization(),\n",
        "        tf.keras.layers.Conv2D(40, (3,3), activation='relu'),   \n",
        "        tf.keras.layers.Conv2D(80, (3,3), activation='relu'),   \n",
        "        tf.keras.layers.BatchNormalization(),\n",
        "        tf.keras.layers.Conv2D(160, (3,3), activation='relu'), \n",
        "        tf.keras.layers.Conv2D(320, (3,3), activation='relu'),  \n",
        "        tf.keras.layers.Flatten(),\n",
        "        tf.keras.layers.Dense(100, activation='relu'),\n",
        "        tf.keras.layers.BatchNormalization(),\n",
        "        tf.keras.layers.Dense(num_classes, activation='softmax')\n",
        "    ]), 'starting', '--'"
      ],
      "execution_count": 0,
      "outputs": []
    },
    {
      "cell_type": "code",
      "metadata": {
        "id": "w57pGxheXSNF",
        "colab_type": "code",
        "colab": {}
      },
      "source": [
        "from keras.callbacks import ReduceLROnPlateau\n",
        "\n",
        "learning_rate_reduction = ReduceLROnPlateau(monitor='val_acc', \n",
        "                                            patience=3, \n",
        "                                            verbose=1, \n",
        "                                            factor=0.5, \n",
        "                                            min_lr=0.0001)"
      ],
      "execution_count": 0,
      "outputs": []
    },
    {
      "cell_type": "code",
      "metadata": {
        "id": "VxJFpy3vfDnQ",
        "colab_type": "code",
        "colab": {}
      },
      "source": [
        "def prepare(df, is_training=True):\n",
        "    X = None\n",
        "    y = None\n",
        "\n",
        "    if is_training:\n",
        "      X = df.iloc[:,1:]\n",
        "      y = df.iloc[:,0]\n",
        "    else:\n",
        "      X = df\n",
        "\n",
        "    # normalizing input from [0,255] to [0,1]\n",
        "    X = X / 255.0\n",
        "\n",
        "    # each row is image of 28x28, one channel.\n",
        "    X = np.reshape(X.values, (X.shape[0], 28, 28, 1))\n",
        "    if is_training:\n",
        "      y = y.values\n",
        "\n",
        "      num_classes = 10\n",
        "      y = tf.keras.utils.to_categorical(y, num_classes=num_classes)\n",
        "    \n",
        "    return X,y"
      ],
      "execution_count": 0,
      "outputs": []
    },
    {
      "cell_type": "code",
      "metadata": {
        "id": "4-W9vinc5WZy",
        "colab_type": "code",
        "colab": {}
      },
      "source": [
        "batch_size = 128\n",
        "epochs = 30\n",
        "lossfn = 'categorical_crossentropy'\n",
        "optimizer = tf.keras.optimizers.Adam(learning_rate=0.001)"
      ],
      "execution_count": 0,
      "outputs": []
    },
    {
      "cell_type": "code",
      "metadata": {
        "id": "ShsgYHeZlE3c",
        "colab_type": "code",
        "colab": {}
      },
      "source": [
        "def train_model(df, name):\n",
        "    X,y = prepare(df)\n",
        "\n",
        "    models = [starting_model(10)]\n",
        "\n",
        "    losses = []\n",
        "    accuracies = []\n",
        "\n",
        "    for model, model_name, line_style in models:\n",
        "        model.compile(loss=lossfn,\n",
        "              optimizer=optimizer,\n",
        "              metrics=['accuracy'])\n",
        "\n",
        "        print(model.summary())\n",
        "\n",
        "        callbacks=[create_tensorboard_callback(name)]\n",
        "        model.fit(X, y, batch_size=batch_size, epochs=epochs, validation_split=0.2, callbacks=callbacks)\n",
        "\n",
        "    return model\n"
      ],
      "execution_count": 0,
      "outputs": []
    },
    {
      "cell_type": "code",
      "metadata": {
        "id": "pBLiHJPfecYe",
        "colab_type": "code",
        "colab": {}
      },
      "source": [
        "def train_predict(df_train, df_test):\n",
        "  X_train, y_train = prepare(df_train)\n",
        "  X_test, _ = prepare(df_test, is_training=False)\n",
        "\n",
        "  num_classes = 10\n",
        "  model, _, _ = starting_model(num_classes=num_classes)\n",
        "\n",
        "  model.compile(loss=lossfn,\n",
        "        optimizer=optimizer,\n",
        "        metrics=['accuracy'])\n",
        "  \n",
        "  model.fit(X_train, y_train, batch_size=batch_size, epochs=epochs)\n",
        "\n",
        "  y_pred = model.predict(X_test)\n",
        "  y_pred_classes = np.argmax(y_pred, axis=1)\n",
        "\n",
        "  submissions = pd.DataFrame({\"ImageId\": list(range(1,len(y_pred_classes)+1)), \"Label\": y_pred_classes})\n",
        "  submissions.to_csv(\"submission.csv\", index=False, header=True)\n"
      ],
      "execution_count": 0,
      "outputs": []
    },
    {
      "cell_type": "code",
      "metadata": {
        "id": "FyleL0yPlIko",
        "colab_type": "code",
        "colab": {}
      },
      "source": [
        "df_train = pd.read_csv('train.csv')\n",
        "df_test = pd.read_csv('test.csv')"
      ],
      "execution_count": 0,
      "outputs": []
    },
    {
      "cell_type": "code",
      "metadata": {
        "id": "13DCEAZClRAp",
        "colab_type": "code",
        "colab": {}
      },
      "source": [
        "train_model(df_train, 'lr0.001_4lyrbnev2_bsz128_mxp')"
      ],
      "execution_count": 0,
      "outputs": []
    },
    {
      "cell_type": "code",
      "metadata": {
        "id": "tlOL-hT4iRYw",
        "colab_type": "code",
        "outputId": "43169ae6-3b8f-43a5-a4af-8e8f512d1b3a",
        "colab": {
          "base_uri": "https://localhost:8080/",
          "height": 992
        }
      },
      "source": [
        "train_predict(df_train, df_test)"
      ],
      "execution_count": 27,
      "outputs": [
        {
          "output_type": "stream",
          "text": [
            "Epoch 1/30\n",
            "329/329 [==============================] - 15s 46ms/step - loss: 0.1142 - accuracy: 0.9670\n",
            "Epoch 2/30\n",
            "329/329 [==============================] - 15s 46ms/step - loss: 0.0440 - accuracy: 0.9869\n",
            "Epoch 3/30\n",
            "329/329 [==============================] - 15s 46ms/step - loss: 0.0330 - accuracy: 0.9899\n",
            "Epoch 4/30\n",
            "329/329 [==============================] - 15s 46ms/step - loss: 0.0267 - accuracy: 0.9921\n",
            "Epoch 5/30\n",
            "329/329 [==============================] - 15s 46ms/step - loss: 0.0225 - accuracy: 0.9933\n",
            "Epoch 6/30\n",
            "329/329 [==============================] - 15s 46ms/step - loss: 0.0193 - accuracy: 0.9939\n",
            "Epoch 7/30\n",
            "329/329 [==============================] - 15s 47ms/step - loss: 0.0166 - accuracy: 0.9947\n",
            "Epoch 8/30\n",
            "329/329 [==============================] - 15s 47ms/step - loss: 0.0145 - accuracy: 0.9955\n",
            "Epoch 9/30\n",
            "329/329 [==============================] - 16s 47ms/step - loss: 0.0118 - accuracy: 0.9963\n",
            "Epoch 10/30\n",
            "329/329 [==============================] - 16s 47ms/step - loss: 0.0105 - accuracy: 0.9968\n",
            "Epoch 11/30\n",
            "329/329 [==============================] - 16s 47ms/step - loss: 0.0144 - accuracy: 0.9954\n",
            "Epoch 12/30\n",
            "329/329 [==============================] - 15s 47ms/step - loss: 0.0086 - accuracy: 0.9975\n",
            "Epoch 13/30\n",
            "329/329 [==============================] - 16s 47ms/step - loss: 0.0062 - accuracy: 0.9982\n",
            "Epoch 14/30\n",
            "329/329 [==============================] - 16s 47ms/step - loss: 0.0065 - accuracy: 0.9980\n",
            "Epoch 15/30\n",
            "329/329 [==============================] - 15s 47ms/step - loss: 0.0055 - accuracy: 0.9981\n",
            "Epoch 16/30\n",
            "329/329 [==============================] - 16s 47ms/step - loss: 0.0051 - accuracy: 0.9985\n",
            "Epoch 17/30\n",
            "329/329 [==============================] - 15s 47ms/step - loss: 0.0090 - accuracy: 0.9968\n",
            "Epoch 18/30\n",
            "329/329 [==============================] - 15s 47ms/step - loss: 0.0087 - accuracy: 0.9971\n",
            "Epoch 19/30\n",
            "329/329 [==============================] - 16s 47ms/step - loss: 0.0037 - accuracy: 0.9989\n",
            "Epoch 20/30\n",
            "329/329 [==============================] - 16s 47ms/step - loss: 0.0083 - accuracy: 0.9972\n",
            "Epoch 21/30\n",
            "329/329 [==============================] - 15s 47ms/step - loss: 0.0097 - accuracy: 0.9972\n",
            "Epoch 22/30\n",
            "329/329 [==============================] - 15s 47ms/step - loss: 0.0023 - accuracy: 0.9993\n",
            "Epoch 23/30\n",
            "329/329 [==============================] - 15s 47ms/step - loss: 0.0015 - accuracy: 0.9997\n",
            "Epoch 24/30\n",
            "329/329 [==============================] - 16s 47ms/step - loss: 0.0017 - accuracy: 0.9996\n",
            "Epoch 25/30\n",
            "329/329 [==============================] - 16s 47ms/step - loss: 0.0026 - accuracy: 0.9991\n",
            "Epoch 26/30\n",
            "329/329 [==============================] - 15s 47ms/step - loss: 0.0137 - accuracy: 0.9956\n",
            "Epoch 27/30\n",
            "329/329 [==============================] - 15s 47ms/step - loss: 0.0026 - accuracy: 0.9991\n",
            "Epoch 28/30\n",
            "329/329 [==============================] - 15s 47ms/step - loss: 0.0012 - accuracy: 0.9998\n",
            "Epoch 29/30\n",
            "329/329 [==============================] - 15s 47ms/step - loss: 5.9603e-04 - accuracy: 0.9999\n",
            "Epoch 30/30\n",
            "329/329 [==============================] - 15s 47ms/step - loss: 2.5637e-04 - accuracy: 1.0000\n"
          ],
          "name": "stdout"
        }
      ]
    },
    {
      "cell_type": "code",
      "metadata": {
        "id": "VlvhSUFnm-iw",
        "colab_type": "code",
        "outputId": "df28977e-96d1-4aa2-adb8-c782e8a7e3b6",
        "colab": {
          "base_uri": "https://localhost:8080/",
          "height": 212
        }
      },
      "source": [
        "df_train.dtypes"
      ],
      "execution_count": 0,
      "outputs": [
        {
          "output_type": "execute_result",
          "data": {
            "text/plain": [
              "label       int64\n",
              "pixel0      int64\n",
              "pixel1      int64\n",
              "pixel2      int64\n",
              "pixel3      int64\n",
              "            ...  \n",
              "pixel779    int64\n",
              "pixel780    int64\n",
              "pixel781    int64\n",
              "pixel782    int64\n",
              "pixel783    int64\n",
              "Length: 785, dtype: object"
            ]
          },
          "metadata": {
            "tags": []
          },
          "execution_count": 7
        }
      ]
    },
    {
      "cell_type": "code",
      "metadata": {
        "id": "QTR0aJJUqEeO",
        "colab_type": "code",
        "outputId": "7e32d3f0-5526-419c-d33f-95aaa082e36e",
        "colab": {
          "base_uri": "https://localhost:8080/",
          "height": 33
        }
      },
      "source": [
        "import os\n",
        "os.getcwd()"
      ],
      "execution_count": 0,
      "outputs": [
        {
          "output_type": "execute_result",
          "data": {
            "text/plain": [
              "'/content'"
            ]
          },
          "metadata": {
            "tags": []
          },
          "execution_count": 15
        }
      ]
    },
    {
      "cell_type": "code",
      "metadata": {
        "id": "N5Nz-y9YqKhd",
        "colab_type": "code",
        "outputId": "d14fead5-5c68-436d-f336-332d414e0325",
        "colab": {
          "base_uri": "https://localhost:8080/",
          "height": 66
        }
      },
      "source": [
        "!unzip mnist.zip"
      ],
      "execution_count": 3,
      "outputs": [
        {
          "output_type": "stream",
          "text": [
            "Archive:  mnist.zip\n",
            "  inflating: test.csv                \n",
            "  inflating: train.csv               \n"
          ],
          "name": "stdout"
        }
      ]
    },
    {
      "cell_type": "code",
      "metadata": {
        "id": "BspSumoOxMS3",
        "colab_type": "code",
        "outputId": "de044d61-7366-4f64-f3e8-303f266c188d",
        "colab": {
          "base_uri": "https://localhost:8080/",
          "height": 505
        }
      },
      "source": [
        "!zip -r tensorboardlogs.zip logs/"
      ],
      "execution_count": 25,
      "outputs": [
        {
          "output_type": "stream",
          "text": [
            "  adding: logs/ (stored 0%)\n",
            "  adding: logs/fit/ (stored 0%)\n",
            "  adding: logs/fit/20200530-094733-lr0.001_4lyrbnev2_bsz128_mxp/ (stored 0%)\n",
            "  adding: logs/fit/20200530-094733-lr0.001_4lyrbnev2_bsz128_mxp/train/ (stored 0%)\n",
            "  adding: logs/fit/20200530-094733-lr0.001_4lyrbnev2_bsz128_mxp/train/plugins/ (stored 0%)\n",
            "  adding: logs/fit/20200530-094733-lr0.001_4lyrbnev2_bsz128_mxp/train/plugins/profile/ (stored 0%)\n",
            "  adding: logs/fit/20200530-094733-lr0.001_4lyrbnev2_bsz128_mxp/train/plugins/profile/2020_05_30_09_47_34/ (stored 0%)\n",
            "  adding: logs/fit/20200530-094733-lr0.001_4lyrbnev2_bsz128_mxp/train/plugins/profile/2020_05_30_09_47_34/a3e9ebb538b9.trace.json.gz (deflated 0%)\n",
            "  adding: logs/fit/20200530-094733-lr0.001_4lyrbnev2_bsz128_mxp/train/plugins/profile/2020_05_30_09_47_34/a3e9ebb538b9.tensorflow_stats.pb (deflated 79%)\n",
            "  adding: logs/fit/20200530-094733-lr0.001_4lyrbnev2_bsz128_mxp/train/plugins/profile/2020_05_30_09_47_34/a3e9ebb538b9.kernel_stats.pb (deflated 94%)\n",
            "  adding: logs/fit/20200530-094733-lr0.001_4lyrbnev2_bsz128_mxp/train/plugins/profile/2020_05_30_09_47_34/a3e9ebb538b9.input_pipeline.pb (deflated 57%)\n",
            "  adding: logs/fit/20200530-094733-lr0.001_4lyrbnev2_bsz128_mxp/train/plugins/profile/2020_05_30_09_47_34/a3e9ebb538b9.overview_page.pb (deflated 59%)\n",
            "  adding: logs/fit/20200530-094733-lr0.001_4lyrbnev2_bsz128_mxp/train/events.out.tfevents.1590832054.a3e9ebb538b9.profile-empty (deflated 5%)\n",
            "  adding: logs/fit/20200530-094733-lr0.001_4lyrbnev2_bsz128_mxp/train/events.out.tfevents.1590832053.a3e9ebb538b9.129.66099.v2 (deflated 88%)\n",
            "  adding: logs/fit/20200530-094733-lr0.001_4lyrbnev2_bsz128_mxp/validation/ (stored 0%)\n",
            "  adding: logs/fit/20200530-094733-lr0.001_4lyrbnev2_bsz128_mxp/validation/events.out.tfevents.1590832057.a3e9ebb538b9.129.69153.v2 (deflated 64%)\n",
            "  adding: logs/fit/20200530-093638-lr0.001_6lyrbnev2_bsz128/ (stored 0%)\n",
            "  adding: logs/fit/20200530-093638-lr0.001_6lyrbnev2_bsz128/train/ (stored 0%)\n",
            "  adding: logs/fit/20200530-093638-lr0.001_6lyrbnev2_bsz128/train/plugins/ (stored 0%)\n",
            "  adding: logs/fit/20200530-093638-lr0.001_6lyrbnev2_bsz128/train/plugins/profile/ (stored 0%)\n",
            "  adding: logs/fit/20200530-093638-lr0.001_6lyrbnev2_bsz128/train/plugins/profile/2020_05_30_09_36_46/ (stored 0%)\n",
            "  adding: logs/fit/20200530-093638-lr0.001_6lyrbnev2_bsz128/train/plugins/profile/2020_05_30_09_36_46/a3e9ebb538b9.trace.json.gz (deflated 0%)\n",
            "  adding: logs/fit/20200530-093638-lr0.001_6lyrbnev2_bsz128/train/plugins/profile/2020_05_30_09_36_46/a3e9ebb538b9.tensorflow_stats.pb (deflated 79%)\n",
            "  adding: logs/fit/20200530-093638-lr0.001_6lyrbnev2_bsz128/train/plugins/profile/2020_05_30_09_36_46/a3e9ebb538b9.kernel_stats.pb (deflated 94%)\n",
            "  adding: logs/fit/20200530-093638-lr0.001_6lyrbnev2_bsz128/train/plugins/profile/2020_05_30_09_36_46/a3e9ebb538b9.input_pipeline.pb (deflated 57%)\n",
            "  adding: logs/fit/20200530-093638-lr0.001_6lyrbnev2_bsz128/train/plugins/profile/2020_05_30_09_36_46/a3e9ebb538b9.overview_page.pb (deflated 58%)\n",
            "  adding: logs/fit/20200530-093638-lr0.001_6lyrbnev2_bsz128/train/events.out.tfevents.1590831399.a3e9ebb538b9.129.1607.v2 (deflated 82%)\n",
            "  adding: logs/fit/20200530-093638-lr0.001_6lyrbnev2_bsz128/train/events.out.tfevents.1590831406.a3e9ebb538b9.profile-empty (deflated 5%)\n",
            "  adding: logs/fit/20200530-093638-lr0.001_6lyrbnev2_bsz128/validation/ (stored 0%)\n",
            "  adding: logs/fit/20200530-093638-lr0.001_6lyrbnev2_bsz128/validation/events.out.tfevents.1590831420.a3e9ebb538b9.129.4957.v2 (deflated 63%)\n"
          ],
          "name": "stdout"
        }
      ]
    },
    {
      "cell_type": "code",
      "metadata": {
        "id": "ib1skSsNUtwv",
        "colab_type": "code",
        "colab": {}
      },
      "source": [
        "!rm tensorboardlogs.zip"
      ],
      "execution_count": 0,
      "outputs": []
    }
  ]
}