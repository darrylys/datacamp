{
  "nbformat": 4,
  "nbformat_minor": 0,
  "metadata": {
    "colab": {
      "name": "MNIST_kaggle_beginning.ipynb",
      "provenance": [],
      "collapsed_sections": [],
      "toc_visible": true
    },
    "kernelspec": {
      "name": "python3",
      "display_name": "Python 3"
    },
    "accelerator": "GPU"
  },
  "cells": [
    {
      "cell_type": "code",
      "metadata": {
        "id": "ksx0-CqPju_Y",
        "colab_type": "code",
        "colab": {}
      },
      "source": [
        "import numpy as np\n",
        "import pandas as pd\n",
        "import tensorflow as tf\n",
        "import matplotlib.pyplot as plt\n",
        "import datetime\n",
        "\n",
        "def create_tensorboard_callback(folder_name):\n",
        "    log_dir = \"logs/fit/\" + datetime.datetime.now().strftime(\"%Y%m%d-%H%M%S\") + \"-\" + folder_name\n",
        "    return tf.keras.callbacks.TensorBoard(log_dir=log_dir, histogram_freq=1)\n"
      ],
      "execution_count": 0,
      "outputs": []
    },
    {
      "cell_type": "code",
      "metadata": {
        "id": "n263_izgmqP9",
        "colab_type": "code",
        "outputId": "a53eb132-2cc5-4019-c9b2-247b7d3ab914",
        "colab": {
          "base_uri": "https://localhost:8080/",
          "height": 50
        }
      },
      "source": [
        "import sys\n",
        "print(sys.version)"
      ],
      "execution_count": 0,
      "outputs": [
        {
          "output_type": "stream",
          "text": [
            "3.6.9 (default, Apr 18 2020, 01:56:04) \n",
            "[GCC 8.4.0]\n"
          ],
          "name": "stdout"
        }
      ]
    },
    {
      "cell_type": "code",
      "metadata": {
        "id": "re3dKltUtUN2",
        "colab_type": "code",
        "colab": {}
      },
      "source": [
        "def starting_model(num_classes):\n",
        "    return tf.keras.models.Sequential(layers=[\n",
        "        tf.keras.layers.Conv2D(10, (3,3), activation='relu', input_shape=(28, 28, 1)),\n",
        "        tf.keras.layers.BatchNormalization(),\n",
        "        tf.keras.layers.Conv2D(20, (3,3), activation='relu'),\n",
        "        tf.keras.layers.BatchNormalization(),\n",
        "        tf.keras.layers.Conv2D(40, (3,3), activation='relu'),\n",
        "        tf.keras.layers.BatchNormalization(),\n",
        "        tf.keras.layers.Conv2D(80, (3,3), activation='relu'),\n",
        "        tf.keras.layers.BatchNormalization(),\n",
        "        tf.keras.layers.Conv2D(160, (3,3), activation='relu'),\n",
        "        tf.keras.layers.BatchNormalization(),\n",
        "        tf.keras.layers.Conv2D(320, (3,3), activation='relu'),\n",
        "        tf.keras.layers.Flatten(),\n",
        "        tf.keras.layers.Dense(100, activation='relu'),\n",
        "        tf.keras.layers.BatchNormalization(),\n",
        "        tf.keras.layers.Dense(num_classes, activation='softmax')\n",
        "    ]), 'starting', '--'"
      ],
      "execution_count": 0,
      "outputs": []
    },
    {
      "cell_type": "code",
      "metadata": {
        "id": "w57pGxheXSNF",
        "colab_type": "code",
        "colab": {}
      },
      "source": [
        "from keras.callbacks import ReduceLROnPlateau\n",
        "\n",
        "learning_rate_reduction = ReduceLROnPlateau(monitor='val_acc', \n",
        "                                            patience=3, \n",
        "                                            verbose=1, \n",
        "                                            factor=0.5, \n",
        "                                            min_lr=0.0001)"
      ],
      "execution_count": 0,
      "outputs": []
    },
    {
      "cell_type": "code",
      "metadata": {
        "id": "VxJFpy3vfDnQ",
        "colab_type": "code",
        "colab": {}
      },
      "source": [
        "def prepare(df, is_training=True):\n",
        "    X = None\n",
        "    y = None\n",
        "\n",
        "    if is_training:\n",
        "      X = df.iloc[:,1:]\n",
        "      y = df.iloc[:,0]\n",
        "    else:\n",
        "      X = df\n",
        "\n",
        "    # normalizing input from [0,255] to [0,1]\n",
        "    X = X / 255.0\n",
        "\n",
        "    # each row is image of 28x28, one channel.\n",
        "    X = np.reshape(X.values, (X.shape[0], 28, 28, 1))\n",
        "    if is_training:\n",
        "      y = y.values\n",
        "\n",
        "      num_classes = 10\n",
        "      y = tf.keras.utils.to_categorical(y, num_classes=num_classes)\n",
        "    \n",
        "    return X,y"
      ],
      "execution_count": 0,
      "outputs": []
    },
    {
      "cell_type": "code",
      "metadata": {
        "id": "ShsgYHeZlE3c",
        "colab_type": "code",
        "colab": {}
      },
      "source": [
        "def train_model(df, name):\n",
        "    X,y = prepare(df)\n",
        "\n",
        "    models = [starting_model(10)]\n",
        "\n",
        "    losses = []\n",
        "    accuracies = []\n",
        "\n",
        "    for model, model_name, line_style in models:\n",
        "        model.compile(loss='categorical_crossentropy',\n",
        "              optimizer=tf.keras.optimizers.Adam(learning_rate=0.001),\n",
        "              metrics=['accuracy'])\n",
        "\n",
        "        print(model.summary())\n",
        "\n",
        "        callbacks=[create_tensorboard_callback(name)]\n",
        "        model.fit(X, y, batch_size=32, epochs=5, validation_split=0.2, callbacks=callbacks)\n",
        "\n",
        "    return model\n"
      ],
      "execution_count": 0,
      "outputs": []
    },
    {
      "cell_type": "code",
      "metadata": {
        "id": "pBLiHJPfecYe",
        "colab_type": "code",
        "colab": {}
      },
      "source": [
        "def train_predict(df_train, df_test):\n",
        "  X_train, y_train = prepare(df_train)\n",
        "  X_test, _ = prepare(df_test, is_training=False)\n",
        "\n",
        "  num_classes = 10\n",
        "  model, _, _ = starting_model(num_classes=num_classes)\n",
        "\n",
        "  model.compile(loss='categorical_crossentropy',\n",
        "        optimizer=tf.keras.optimizers.Adam(learning_rate=0.001),\n",
        "        metrics=['accuracy'])\n",
        "  \n",
        "  model.fit(X_train, y_train, batch_size=128, epochs=30)\n",
        "\n",
        "  y_pred = model.predict(X_test)\n",
        "  y_pred_classes = np.argmax(y_pred, axis=1)\n",
        "\n",
        "  submissions = pd.DataFrame({\"ImageId\": list(range(1,len(y_pred_classes)+1)), \"Label\": y_pred_classes})\n",
        "  submissions.to_csv(\"submission.csv\", index=False, header=True)\n"
      ],
      "execution_count": 0,
      "outputs": []
    },
    {
      "cell_type": "code",
      "metadata": {
        "id": "FyleL0yPlIko",
        "colab_type": "code",
        "colab": {}
      },
      "source": [
        "df_train = pd.read_csv('train.csv')\n",
        "df_test = pd.read_csv('test.csv')"
      ],
      "execution_count": 0,
      "outputs": []
    },
    {
      "cell_type": "code",
      "metadata": {
        "id": "13DCEAZClRAp",
        "colab_type": "code",
        "outputId": "dddba28c-ec07-4164-cdf4-23c0000ec26f",
        "colab": {
          "base_uri": "https://localhost:8080/",
          "height": 830
        }
      },
      "source": [
        "train_model(df_train, 'testing')"
      ],
      "execution_count": 23,
      "outputs": [
        {
          "output_type": "stream",
          "text": [
            "Model: \"sequential_3\"\n",
            "_________________________________________________________________\n",
            "Layer (type)                 Output Shape              Param #   \n",
            "=================================================================\n",
            "conv2d_18 (Conv2D)           (None, 26, 26, 10)        100       \n",
            "_________________________________________________________________\n",
            "batch_normalization_18 (Batc (None, 26, 26, 10)        40        \n",
            "_________________________________________________________________\n",
            "conv2d_19 (Conv2D)           (None, 24, 24, 20)        1820      \n",
            "_________________________________________________________________\n",
            "batch_normalization_19 (Batc (None, 24, 24, 20)        80        \n",
            "_________________________________________________________________\n",
            "conv2d_20 (Conv2D)           (None, 22, 22, 40)        7240      \n",
            "_________________________________________________________________\n",
            "batch_normalization_20 (Batc (None, 22, 22, 40)        160       \n",
            "_________________________________________________________________\n",
            "conv2d_21 (Conv2D)           (None, 20, 20, 80)        28880     \n",
            "_________________________________________________________________\n",
            "batch_normalization_21 (Batc (None, 20, 20, 80)        320       \n",
            "_________________________________________________________________\n",
            "conv2d_22 (Conv2D)           (None, 18, 18, 160)       115360    \n",
            "_________________________________________________________________\n",
            "batch_normalization_22 (Batc (None, 18, 18, 160)       640       \n",
            "_________________________________________________________________\n",
            "conv2d_23 (Conv2D)           (None, 16, 16, 320)       461120    \n",
            "_________________________________________________________________\n",
            "flatten_3 (Flatten)          (None, 81920)             0         \n",
            "_________________________________________________________________\n",
            "dense_6 (Dense)              (None, 100)               8192100   \n",
            "_________________________________________________________________\n",
            "batch_normalization_23 (Batc (None, 100)               400       \n",
            "_________________________________________________________________\n",
            "dense_7 (Dense)              (None, 10)                1010      \n",
            "=================================================================\n",
            "Total params: 8,809,270\n",
            "Trainable params: 8,808,450\n",
            "Non-trainable params: 820\n",
            "_________________________________________________________________\n",
            "None\n",
            "Epoch 1/5\n",
            "1050/1050 [==============================] - 14s 13ms/step - loss: 0.1114 - accuracy: 0.9693 - val_loss: 0.0419 - val_accuracy: 0.9868\n",
            "Epoch 2/5\n",
            "1050/1050 [==============================] - 13s 13ms/step - loss: 0.0481 - accuracy: 0.9855 - val_loss: 0.0356 - val_accuracy: 0.9887\n",
            "Epoch 3/5\n",
            "1050/1050 [==============================] - 13s 13ms/step - loss: 0.0382 - accuracy: 0.9877 - val_loss: 0.0388 - val_accuracy: 0.9888\n",
            "Epoch 4/5\n",
            "1050/1050 [==============================] - 13s 13ms/step - loss: 0.0319 - accuracy: 0.9904 - val_loss: 0.0327 - val_accuracy: 0.9913\n",
            "Epoch 5/5\n",
            "1050/1050 [==============================] - 13s 13ms/step - loss: 0.0269 - accuracy: 0.9911 - val_loss: 0.0343 - val_accuracy: 0.9908\n"
          ],
          "name": "stdout"
        },
        {
          "output_type": "execute_result",
          "data": {
            "text/plain": [
              "<tensorflow.python.keras.engine.sequential.Sequential at 0x7fe53c4567f0>"
            ]
          },
          "metadata": {
            "tags": []
          },
          "execution_count": 23
        }
      ]
    },
    {
      "cell_type": "code",
      "metadata": {
        "id": "tlOL-hT4iRYw",
        "colab_type": "code",
        "colab": {
          "base_uri": "https://localhost:8080/",
          "height": 992
        },
        "outputId": "4dea24e1-3f72-4744-d302-b0694a60d0c6"
      },
      "source": [
        "train_predict(df_train, df_test)"
      ],
      "execution_count": 28,
      "outputs": [
        {
          "output_type": "stream",
          "text": [
            "Epoch 1/30\n",
            "329/329 [==============================] - 8s 23ms/step - loss: 0.1040 - accuracy: 0.9705\n",
            "Epoch 2/30\n",
            "329/329 [==============================] - 7s 23ms/step - loss: 0.0353 - accuracy: 0.9896\n",
            "Epoch 3/30\n",
            "329/329 [==============================] - 7s 23ms/step - loss: 0.0274 - accuracy: 0.9916\n",
            "Epoch 4/30\n",
            "329/329 [==============================] - 7s 23ms/step - loss: 0.0188 - accuracy: 0.9942\n",
            "Epoch 5/30\n",
            "329/329 [==============================] - 7s 23ms/step - loss: 0.0150 - accuracy: 0.9953\n",
            "Epoch 6/30\n",
            "329/329 [==============================] - 7s 23ms/step - loss: 0.0125 - accuracy: 0.9963\n",
            "Epoch 7/30\n",
            "329/329 [==============================] - 7s 23ms/step - loss: 0.0109 - accuracy: 0.9966\n",
            "Epoch 8/30\n",
            "329/329 [==============================] - 7s 23ms/step - loss: 0.0148 - accuracy: 0.9954\n",
            "Epoch 9/30\n",
            "329/329 [==============================] - 8s 23ms/step - loss: 0.0073 - accuracy: 0.9977\n",
            "Epoch 10/30\n",
            "329/329 [==============================] - 7s 23ms/step - loss: 0.0055 - accuracy: 0.9984\n",
            "Epoch 11/30\n",
            "329/329 [==============================] - 7s 23ms/step - loss: 0.0042 - accuracy: 0.9987\n",
            "Epoch 12/30\n",
            "329/329 [==============================] - 7s 23ms/step - loss: 0.0075 - accuracy: 0.9977\n",
            "Epoch 13/30\n",
            "329/329 [==============================] - 7s 23ms/step - loss: 0.0087 - accuracy: 0.9973\n",
            "Epoch 14/30\n",
            "329/329 [==============================] - 7s 23ms/step - loss: 0.0047 - accuracy: 0.9986\n",
            "Epoch 15/30\n",
            "329/329 [==============================] - 8s 23ms/step - loss: 0.0018 - accuracy: 0.9996\n",
            "Epoch 16/30\n",
            "329/329 [==============================] - 7s 23ms/step - loss: 0.0011 - accuracy: 0.9998\n",
            "Epoch 17/30\n",
            "329/329 [==============================] - 7s 23ms/step - loss: 0.0062 - accuracy: 0.9978\n",
            "Epoch 18/30\n",
            "329/329 [==============================] - 7s 23ms/step - loss: 0.0096 - accuracy: 0.9968\n",
            "Epoch 19/30\n",
            "329/329 [==============================] - 7s 23ms/step - loss: 0.0047 - accuracy: 0.9985\n",
            "Epoch 20/30\n",
            "329/329 [==============================] - 7s 23ms/step - loss: 0.0037 - accuracy: 0.9990\n",
            "Epoch 21/30\n",
            "329/329 [==============================] - 7s 23ms/step - loss: 0.0058 - accuracy: 0.9982\n",
            "Epoch 22/30\n",
            "329/329 [==============================] - 7s 23ms/step - loss: 7.3633e-04 - accuracy: 0.9999\n",
            "Epoch 23/30\n",
            "329/329 [==============================] - 8s 23ms/step - loss: 4.0381e-04 - accuracy: 1.0000\n",
            "Epoch 24/30\n",
            "329/329 [==============================] - 7s 23ms/step - loss: 1.0678e-04 - accuracy: 1.0000\n",
            "Epoch 25/30\n",
            "329/329 [==============================] - 7s 23ms/step - loss: 6.9518e-05 - accuracy: 1.0000\n",
            "Epoch 26/30\n",
            "329/329 [==============================] - 7s 23ms/step - loss: 4.9082e-05 - accuracy: 1.0000\n",
            "Epoch 27/30\n",
            "329/329 [==============================] - 7s 23ms/step - loss: 4.0039e-05 - accuracy: 1.0000\n",
            "Epoch 28/30\n",
            "329/329 [==============================] - 7s 23ms/step - loss: 3.1257e-05 - accuracy: 1.0000\n",
            "Epoch 29/30\n",
            "329/329 [==============================] - 7s 23ms/step - loss: 2.6965e-05 - accuracy: 1.0000\n",
            "Epoch 30/30\n",
            "329/329 [==============================] - 7s 23ms/step - loss: 2.2944e-05 - accuracy: 1.0000\n"
          ],
          "name": "stdout"
        }
      ]
    },
    {
      "cell_type": "code",
      "metadata": {
        "id": "VlvhSUFnm-iw",
        "colab_type": "code",
        "outputId": "df28977e-96d1-4aa2-adb8-c782e8a7e3b6",
        "colab": {
          "base_uri": "https://localhost:8080/",
          "height": 212
        }
      },
      "source": [
        "df_train.dtypes"
      ],
      "execution_count": 0,
      "outputs": [
        {
          "output_type": "execute_result",
          "data": {
            "text/plain": [
              "label       int64\n",
              "pixel0      int64\n",
              "pixel1      int64\n",
              "pixel2      int64\n",
              "pixel3      int64\n",
              "            ...  \n",
              "pixel779    int64\n",
              "pixel780    int64\n",
              "pixel781    int64\n",
              "pixel782    int64\n",
              "pixel783    int64\n",
              "Length: 785, dtype: object"
            ]
          },
          "metadata": {
            "tags": []
          },
          "execution_count": 7
        }
      ]
    },
    {
      "cell_type": "code",
      "metadata": {
        "id": "QTR0aJJUqEeO",
        "colab_type": "code",
        "outputId": "7e32d3f0-5526-419c-d33f-95aaa082e36e",
        "colab": {
          "base_uri": "https://localhost:8080/",
          "height": 33
        }
      },
      "source": [
        "import os\n",
        "os.getcwd()"
      ],
      "execution_count": 0,
      "outputs": [
        {
          "output_type": "execute_result",
          "data": {
            "text/plain": [
              "'/content'"
            ]
          },
          "metadata": {
            "tags": []
          },
          "execution_count": 15
        }
      ]
    },
    {
      "cell_type": "code",
      "metadata": {
        "id": "N5Nz-y9YqKhd",
        "colab_type": "code",
        "outputId": "61197f44-dc0f-4b09-bcf2-594b3c43c03b",
        "colab": {
          "base_uri": "https://localhost:8080/",
          "height": 66
        }
      },
      "source": [
        "!unzip sample_data/mnist.zip"
      ],
      "execution_count": 1,
      "outputs": [
        {
          "output_type": "stream",
          "text": [
            "Archive:  sample_data/mnist.zip\n",
            "  inflating: test.csv                \n",
            "  inflating: train.csv               \n"
          ],
          "name": "stdout"
        }
      ]
    },
    {
      "cell_type": "code",
      "metadata": {
        "id": "BspSumoOxMS3",
        "colab_type": "code",
        "outputId": "e2ddc4b2-3fac-48ef-e3a8-1d50976ab55d",
        "colab": {
          "base_uri": "https://localhost:8080/",
          "height": 732
        }
      },
      "source": [
        "!zip -r tensorboardlogs.zip logs/"
      ],
      "execution_count": 12,
      "outputs": [
        {
          "output_type": "stream",
          "text": [
            "  adding: logs/ (stored 0%)\n",
            "  adding: logs/fit/ (stored 0%)\n",
            "  adding: logs/fit/20200530-071122-lr0.001_6lyrbn_bsz128/ (stored 0%)\n",
            "  adding: logs/fit/20200530-071122-lr0.001_6lyrbn_bsz128/train/ (stored 0%)\n",
            "  adding: logs/fit/20200530-071122-lr0.001_6lyrbn_bsz128/train/events.out.tfevents.1590822682.cba42936d556.120.343261.v2 (deflated 85%)\n",
            "  adding: logs/fit/20200530-071122-lr0.001_6lyrbn_bsz128/train/plugins/ (stored 0%)\n",
            "  adding: logs/fit/20200530-071122-lr0.001_6lyrbn_bsz128/train/plugins/profile/ (stored 0%)\n",
            "  adding: logs/fit/20200530-071122-lr0.001_6lyrbn_bsz128/train/plugins/profile/2020_05_30_07_11_24/ (stored 0%)\n",
            "  adding: logs/fit/20200530-071122-lr0.001_6lyrbn_bsz128/train/plugins/profile/2020_05_30_07_11_24/cba42936d556.input_pipeline.pb (deflated 57%)\n",
            "  adding: logs/fit/20200530-071122-lr0.001_6lyrbn_bsz128/train/plugins/profile/2020_05_30_07_11_24/cba42936d556.overview_page.pb (deflated 59%)\n",
            "  adding: logs/fit/20200530-071122-lr0.001_6lyrbn_bsz128/train/plugins/profile/2020_05_30_07_11_24/cba42936d556.kernel_stats.pb (deflated 94%)\n",
            "  adding: logs/fit/20200530-071122-lr0.001_6lyrbn_bsz128/train/plugins/profile/2020_05_30_07_11_24/cba42936d556.tensorflow_stats.pb (deflated 77%)\n",
            "  adding: logs/fit/20200530-071122-lr0.001_6lyrbn_bsz128/train/plugins/profile/2020_05_30_07_11_24/cba42936d556.trace.json.gz (deflated 0%)\n",
            "  adding: logs/fit/20200530-071122-lr0.001_6lyrbn_bsz128/train/events.out.tfevents.1590822684.cba42936d556.profile-empty (deflated 8%)\n",
            "  adding: logs/fit/20200530-071122-lr0.001_6lyrbn_bsz128/validation/ (stored 0%)\n",
            "  adding: logs/fit/20200530-071122-lr0.001_6lyrbn_bsz128/validation/events.out.tfevents.1590822691.cba42936d556.120.346995.v2 (deflated 63%)\n",
            "  adding: logs/fit/20200530-070331-lr0.001_6lyrbn_bsz32/ (stored 0%)\n",
            "  adding: logs/fit/20200530-070331-lr0.001_6lyrbn_bsz32/train/ (stored 0%)\n",
            "  adding: logs/fit/20200530-070331-lr0.001_6lyrbn_bsz32/train/events.out.tfevents.1590822213.cba42936d556.profile-empty (deflated 5%)\n",
            "  adding: logs/fit/20200530-070331-lr0.001_6lyrbn_bsz32/train/plugins/ (stored 0%)\n",
            "  adding: logs/fit/20200530-070331-lr0.001_6lyrbn_bsz32/train/plugins/profile/ (stored 0%)\n",
            "  adding: logs/fit/20200530-070331-lr0.001_6lyrbn_bsz32/train/plugins/profile/2020_05_30_07_03_33/ (stored 0%)\n",
            "  adding: logs/fit/20200530-070331-lr0.001_6lyrbn_bsz32/train/plugins/profile/2020_05_30_07_03_33/cba42936d556.input_pipeline.pb (deflated 57%)\n",
            "  adding: logs/fit/20200530-070331-lr0.001_6lyrbn_bsz32/train/plugins/profile/2020_05_30_07_03_33/cba42936d556.overview_page.pb (deflated 58%)\n",
            "  adding: logs/fit/20200530-070331-lr0.001_6lyrbn_bsz32/train/plugins/profile/2020_05_30_07_03_33/cba42936d556.kernel_stats.pb (deflated 94%)\n",
            "  adding: logs/fit/20200530-070331-lr0.001_6lyrbn_bsz32/train/plugins/profile/2020_05_30_07_03_33/cba42936d556.tensorflow_stats.pb (deflated 77%)\n",
            "  adding: logs/fit/20200530-070331-lr0.001_6lyrbn_bsz32/train/plugins/profile/2020_05_30_07_03_33/cba42936d556.trace.json.gz (deflated 0%)\n",
            "  adding: logs/fit/20200530-070331-lr0.001_6lyrbn_bsz32/train/events.out.tfevents.1590822211.cba42936d556.120.120879.v2 (deflated 84%)\n",
            "  adding: logs/fit/20200530-070331-lr0.001_6lyrbn_bsz32/validation/ (stored 0%)\n",
            "  adding: logs/fit/20200530-070331-lr0.001_6lyrbn_bsz32/validation/events.out.tfevents.1590822225.cba42936d556.120.129727.v2 (deflated 63%)\n",
            "  adding: logs/fit/20200530-063819-lr0.001_6lyrbn/ (stored 0%)\n",
            "  adding: logs/fit/20200530-063819-lr0.001_6lyrbn/train/ (stored 0%)\n",
            "  adding: logs/fit/20200530-063819-lr0.001_6lyrbn/train/events.out.tfevents.1590820700.cba42936d556.120.862.v2 (deflated 81%)\n",
            "  adding: logs/fit/20200530-063819-lr0.001_6lyrbn/train/events.out.tfevents.1590820707.cba42936d556.profile-empty (deflated 5%)\n",
            "  adding: logs/fit/20200530-063819-lr0.001_6lyrbn/train/plugins/ (stored 0%)\n",
            "  adding: logs/fit/20200530-063819-lr0.001_6lyrbn/train/plugins/profile/ (stored 0%)\n",
            "  adding: logs/fit/20200530-063819-lr0.001_6lyrbn/train/plugins/profile/2020_05_30_06_38_27/ (stored 0%)\n",
            "  adding: logs/fit/20200530-063819-lr0.001_6lyrbn/train/plugins/profile/2020_05_30_06_38_27/cba42936d556.input_pipeline.pb (deflated 57%)\n",
            "  adding: logs/fit/20200530-063819-lr0.001_6lyrbn/train/plugins/profile/2020_05_30_06_38_27/cba42936d556.overview_page.pb (deflated 59%)\n",
            "  adding: logs/fit/20200530-063819-lr0.001_6lyrbn/train/plugins/profile/2020_05_30_06_38_27/cba42936d556.kernel_stats.pb (deflated 94%)\n",
            "  adding: logs/fit/20200530-063819-lr0.001_6lyrbn/train/plugins/profile/2020_05_30_06_38_27/cba42936d556.tensorflow_stats.pb (deflated 77%)\n",
            "  adding: logs/fit/20200530-063819-lr0.001_6lyrbn/train/plugins/profile/2020_05_30_06_38_27/cba42936d556.trace.json.gz (deflated 0%)\n",
            "  adding: logs/fit/20200530-063819-lr0.001_6lyrbn/validation/ (stored 0%)\n",
            "  adding: logs/fit/20200530-063819-lr0.001_6lyrbn/validation/events.out.tfevents.1590820716.cba42936d556.120.6298.v2 (deflated 64%)\n"
          ],
          "name": "stdout"
        }
      ]
    },
    {
      "cell_type": "code",
      "metadata": {
        "id": "ib1skSsNUtwv",
        "colab_type": "code",
        "colab": {}
      },
      "source": [
        "!rm tensorboardlogs.zip"
      ],
      "execution_count": 0,
      "outputs": []
    }
  ]
}